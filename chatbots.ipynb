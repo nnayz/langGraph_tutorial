{
 "cells": [
  {
   "cell_type": "code",
   "execution_count": 1,
   "id": "2457973a",
   "metadata": {},
   "outputs": [],
   "source": [
    "import os\n",
    "from dotenv import load_dotenv\n",
    "load_dotenv()\n",
    "\n",
    "groq_api_key = os.getenv(\"GROQ_API_KEY\")"
   ]
  },
  {
   "cell_type": "code",
   "execution_count": 2,
   "id": "78a9dda9",
   "metadata": {},
   "outputs": [
    {
     "data": {
      "text/plain": [
       "ChatGroq(client=<groq.resources.chat.completions.Completions object at 0x10d99eba0>, async_client=<groq.resources.chat.completions.AsyncCompletions object at 0x10d99f770>, model_name='Gemma2-9b-It', model_kwargs={}, groq_api_key=SecretStr('**********'))"
      ]
     },
     "execution_count": 2,
     "metadata": {},
     "output_type": "execute_result"
    }
   ],
   "source": [
    "from langchain_groq import ChatGroq\n",
    "model = ChatGroq(model=\"Gemma2-9b-It\", api_key=groq_api_key)\n",
    "model"
   ]
  },
  {
   "cell_type": "code",
   "execution_count": 4,
   "id": "5987f0db",
   "metadata": {},
   "outputs": [
    {
     "data": {
      "text/plain": [
       "AIMessage(content=\"Hello Nayz, it's nice to meet you!\\n\\nThat's awesome, I'm always interested in talking to people who work in software engineering. What kind of things do you enjoy working on?  \\n\\nDo you have any projects you're particularly proud of?\\n\", additional_kwargs={}, response_metadata={'token_usage': {'completion_tokens': 60, 'prompt_tokens': 22, 'total_tokens': 82, 'completion_time': 0.109090909, 'prompt_time': 0.00132378, 'queue_time': 0.251799485, 'total_time': 0.110414689}, 'model_name': 'Gemma2-9b-It', 'system_fingerprint': 'fp_10c08bf97d', 'service_tier': 'on_demand', 'finish_reason': 'stop', 'logprobs': None}, id='run--1d7402b1-6a51-47ba-b0d6-794303e82584-0', usage_metadata={'input_tokens': 22, 'output_tokens': 60, 'total_tokens': 82})"
      ]
     },
     "execution_count": 4,
     "metadata": {},
     "output_type": "execute_result"
    }
   ],
   "source": [
    "from langchain_core.messages import HumanMessage\n",
    "model.invoke([HumanMessage(content=\"Hello, my name is Nayz and I am a software engineer\")])"
   ]
  },
  {
   "cell_type": "code",
   "execution_count": 5,
   "id": "05e5560d",
   "metadata": {},
   "outputs": [
    {
     "data": {
      "text/plain": [
       "AIMessage(content=\"You are Nayz, and you're a software engineer!  😊  \\n\\nIs there anything else you'd like to tell me about yourself or your work?  I'm curious to learn more. \\n\\n\", additional_kwargs={}, response_metadata={'token_usage': {'completion_tokens': 48, 'prompt_tokens': 101, 'total_tokens': 149, 'completion_time': 0.087272727, 'prompt_time': 0.002725884, 'queue_time': 0.246472717, 'total_time': 0.089998611}, 'model_name': 'Gemma2-9b-It', 'system_fingerprint': 'fp_10c08bf97d', 'service_tier': 'on_demand', 'finish_reason': 'stop', 'logprobs': None}, id='run--bd13560b-873c-441f-a252-45ef5d0fa758-0', usage_metadata={'input_tokens': 101, 'output_tokens': 48, 'total_tokens': 149})"
      ]
     },
     "execution_count": 5,
     "metadata": {},
     "output_type": "execute_result"
    }
   ],
   "source": [
    "from langchain_core.messages import AIMessage\n",
    "model.invoke(\n",
    "    [\n",
    "        HumanMessage(content=\"Hi, my name is Nayz and I am a software engineer\"),\n",
    "        AIMessage(content=\"Hello Nayz, it's nice to meet you!\\n\\nThat's awesome, I'm always interested in talking to people who work in software engineering. What kind of things do you enjoy working on?  \\n\\nDo you have any projects you're particularly proud of?\\n\"),\n",
    "        HumanMessage(content=\"What is my name? And what do i do?\")\n",
    "    ]\n",
    ")"
   ]
  },
  {
   "cell_type": "markdown",
   "id": "26a3fd1d",
   "metadata": {},
   "source": [
    "### Message history \n",
    "\n",
    "We can use a Message History class to wrap our model and make it stateful. This will keep track of inputs and outputs of the model, and store them in some datastore. Future interactions will then load those messages and pass them into the chain as part of the input. Let's see how to use this!"
   ]
  },
  {
   "cell_type": "code",
   "execution_count": 10,
   "id": "bac6ae65",
   "metadata": {},
   "outputs": [],
   "source": [
    "from langchain_community.chat_message_histories import ChatMessageHistory\n",
    "from langchain_core.chat_history import BaseChatMessageHistory\n",
    "from langchain_core.runnables.history import RunnableWithMessageHistory\n",
    "\n",
    "store = {}\n",
    "\n",
    "def get_session_history(session_id: str) -> BaseChatMessageHistory:\n",
    "    if session_id not in store:\n",
    "        store[session_id] = ChatMessageHistory()\n",
    "    return store[session_id]\n",
    "\n",
    "with_message_history = RunnableWithMessageHistory(\n",
    "    model, \n",
    "    get_session_history\n",
    ")"
   ]
  },
  {
   "cell_type": "code",
   "execution_count": 8,
   "id": "fcc2e787",
   "metadata": {},
   "outputs": [],
   "source": [
    "config = {\n",
    "    \"configurable\": {\n",
    "        \"session_id\": \"chat1\"\n",
    "    }\n",
    "}"
   ]
  },
  {
   "cell_type": "code",
   "execution_count": 12,
   "id": "012c71e3",
   "metadata": {},
   "outputs": [],
   "source": [
    "response = with_message_history.invoke(\n",
    "    [HumanMessage(content=\"Hi, My name is Nayz and I am a Software Engineer\")],\n",
    "    config=config\n",
    ")"
   ]
  },
  {
   "cell_type": "code",
   "execution_count": 13,
   "id": "33665b46",
   "metadata": {},
   "outputs": [
    {
     "data": {
      "text/plain": [
       "\"Hey Nayz, it's great to meet you!\\n\\nBeing a Software Engineer is pretty cool. What kind of projects do you usually work on?  Do you have a favorite programming language or tool you like to use?\\n\""
      ]
     },
     "execution_count": 13,
     "metadata": {},
     "output_type": "execute_result"
    }
   ],
   "source": [
    "response.content"
   ]
  },
  {
   "cell_type": "code",
   "execution_count": 18,
   "id": "5f6f18d7",
   "metadata": {},
   "outputs": [
    {
     "data": {
      "text/plain": [
       "AIMessage(content='You told me your name is Nayz!  \\n\\nIs there something else I can help you with?', additional_kwargs={}, response_metadata={'token_usage': {'completion_tokens': 23, 'prompt_tokens': 203, 'total_tokens': 226, 'completion_time': 0.041818182, 'prompt_time': 0.004634167, 'queue_time': 0.249646137, 'total_time': 0.046452349}, 'model_name': 'Gemma2-9b-It', 'system_fingerprint': 'fp_10c08bf97d', 'service_tier': 'on_demand', 'finish_reason': 'stop', 'logprobs': None}, id='run--703167e8-cc3b-4d9b-974d-cfb6803e556d-0', usage_metadata={'input_tokens': 203, 'output_tokens': 23, 'total_tokens': 226})"
      ]
     },
     "execution_count": 18,
     "metadata": {},
     "output_type": "execute_result"
    }
   ],
   "source": [
    "with_message_history.invoke(\n",
    "    [HumanMessage(content=\"What is my name?\")],\n",
    "    config=config\n",
    ")"
   ]
  },
  {
   "cell_type": "code",
   "execution_count": 16,
   "id": "0e5777b6",
   "metadata": {},
   "outputs": [],
   "source": [
    "another_config = {\n",
    "    \"configurable\": {\n",
    "        \"session_id\": \"chat2\"\n",
    "    }\n",
    "}\n",
    "\n",
    "response2 = with_message_history.invoke(\n",
    "    [HumanMessage(content=\"What is my name?\")],\n",
    "    config=another_config\n",
    ")"
   ]
  },
  {
   "cell_type": "code",
   "execution_count": 17,
   "id": "c0371ba9",
   "metadata": {},
   "outputs": [
    {
     "data": {
      "text/plain": [
       "\"As an AI, I have no memory of past conversations and do not know your name. If you'd like to tell me, I'm happy to know! 😊\\n\""
      ]
     },
     "execution_count": 17,
     "metadata": {},
     "output_type": "execute_result"
    }
   ],
   "source": [
    "response2.content"
   ]
  },
  {
   "cell_type": "markdown",
   "id": "ec7cd4a3",
   "metadata": {},
   "source": [
    "### Prompt Templates\n",
    "\n",
    "Prompt templates help to turn raw user information into a format that the LLM can work with. In this case, the raw user input is just a message, which we are passing to the LLM. Let's now make that a bit more complicated. First, let's add in a system message with some custom instructions (but still taking messages as input). Next, we'll add more in more input besides just the messages. "
   ]
  },
  {
   "cell_type": "code",
   "execution_count": 19,
   "id": "7ed459bd",
   "metadata": {},
   "outputs": [],
   "source": [
    "from langchain_core.prompts import ChatPromptTemplate, MessagesPlaceholder\n",
    "from langchain_core.output_parsers import StrOutputParser\n",
    "parser = StrOutputParser()\n",
    "\n",
    "prompt = ChatPromptTemplate.from_messages(\n",
    "    [\n",
    "        (\"system\", \"You are a helpful assistant. Answer all the questions to the best of your ability.\"),\n",
    "        MessagesPlaceholder(variable_name=\"messages\")\n",
    "    ]\n",
    ")\n",
    "\n",
    "chain = prompt | model | parser"
   ]
  },
  {
   "cell_type": "code",
   "execution_count": 20,
   "id": "dad15637",
   "metadata": {},
   "outputs": [
    {
     "data": {
      "text/plain": [
       "\"Hello Nayz, it's nice to meet you!\\n\\nAs a helpful assistant, I'm here to assist you with any questions or tasks you may have. Feel free to ask me anything, and I'll do my best to provide you with helpful and informative answers.\\n\\nWhat can I do for you today?\\n\""
      ]
     },
     "execution_count": 20,
     "metadata": {},
     "output_type": "execute_result"
    }
   ],
   "source": [
    "chain.invoke({\"messages\": [HumanMessage(content=\"Hi, my name is Nayz and I am a software engineer\")]})"
   ]
  },
  {
   "cell_type": "code",
   "execution_count": 22,
   "id": "eed411d4",
   "metadata": {},
   "outputs": [],
   "source": [
    "with_message_history = RunnableWithMessageHistory(chain,get_session_history)"
   ]
  },
  {
   "cell_type": "code",
   "execution_count": 25,
   "id": "e3c19b0c",
   "metadata": {},
   "outputs": [
    {
     "data": {
      "text/plain": [
       "\"Hi Nayz! It's great to meet you.  What can I do for you today?  Are you working on any interesting projects right now? \\n\\nI'm excited to learn more about what you do as a Software Engineer. 😊  \\n\""
      ]
     },
     "execution_count": 25,
     "metadata": {},
     "output_type": "execute_result"
    }
   ],
   "source": [
    "config = {\n",
    "    \"configurable\": {\n",
    "        \"session_id\": \"chat3\"\n",
    "    }\n",
    "}\n",
    "\n",
    "response = with_message_history.invoke(\n",
    "    [HumanMessage(content=\"Hi, My name is Nayz and I am a Software Engineer\")],\n",
    "    config=config\n",
    ")\n",
    "\n",
    "response"
   ]
  },
  {
   "cell_type": "code",
   "execution_count": 26,
   "id": "9064c9f6",
   "metadata": {},
   "outputs": [],
   "source": [
    "## Add more complexity\n",
    "\n",
    "prompt = ChatPromptTemplate.from_messages([\n",
    "    (\"system\", \"You are a helpful assistant. Answer all the questions to the best of your ability in {language}\"),\n",
    "    MessagesPlaceholder(variable_name=\"messages\")\n",
    "])\n",
    "\n",
    "chain = prompt | model | parser"
   ]
  },
  {
   "cell_type": "code",
   "execution_count": 27,
   "id": "154603c3",
   "metadata": {},
   "outputs": [
    {
     "data": {
      "text/plain": [
       "'Hallo Nayz!\\n\\nEs freut mich, dich kennenzulernen. Als Softwareentwickler bist du bestimmt sehr gefragt. \\n\\nKann ich dir bei etwas helfen?  Vielleicht hast du Fragen zu einem bestimmten Code, brauchst du Inspiration für ein neues Projekt oder möchtest einfach nur über Softwareentwicklung reden?  \\n\\n'"
      ]
     },
     "execution_count": 27,
     "metadata": {},
     "output_type": "execute_result"
    }
   ],
   "source": [
    "response = chain.invoke(\n",
    "    {\n",
    "        \"messages\": [\n",
    "            HumanMessage(content=\"Hi, My name is Nayz and I am a Software Engineer\")\n",
    "        ],\n",
    "        \"language\": \"German\"\n",
    "    },\n",
    "    config=config\n",
    ")\n",
    "\n",
    "response"
   ]
  },
  {
   "cell_type": "markdown",
   "id": "ed832c38",
   "metadata": {},
   "source": [
    " Lets now wrap this more complicated chain in a Message History class. This time, because there are multiple keys in the input, we need to specify the correct key to use to save the chat history."
   ]
  },
  {
   "cell_type": "code",
   "execution_count": 29,
   "id": "c3f86413",
   "metadata": {},
   "outputs": [],
   "source": [
    "with_message_history = RunnableWithMessageHistory(\n",
    "    chain,\n",
    "    get_session_history,\n",
    "    input_messages_key=\"messages\"\n",
    ")"
   ]
  },
  {
   "cell_type": "code",
   "execution_count": 30,
   "id": "178e5fc5",
   "metadata": {},
   "outputs": [
    {
     "data": {
      "text/plain": [
       "'Hallo Nayz!\\n\\nEs freut mich, dich kennenzulernen. Als Software-Ingenieur bin ich gespannt, wie ich dir helfen kann. \\n\\nWas kann ich für dich tun? \\n'"
      ]
     },
     "execution_count": 30,
     "metadata": {},
     "output_type": "execute_result"
    }
   ],
   "source": [
    "config = {\n",
    "    \"configurable\": {\n",
    "        \"session_id\": \"chat5\"\n",
    "    }\n",
    "}\n",
    "\n",
    "response = with_message_history.invoke(\n",
    "    {\n",
    "        \"messages\": [\n",
    "            HumanMessage(content=\"Hi, My name is Nayz and I am a Software Engineer\")\n",
    "        ],\n",
    "        \"language\": \"German\"\n",
    "    },\n",
    "    config=config\n",
    ")\n",
    "\n",
    "response"
   ]
  },
  {
   "cell_type": "code",
   "execution_count": 36,
   "id": "73ca8be3",
   "metadata": {},
   "outputs": [
    {
     "data": {
      "text/plain": [
       "'Software Engineer'"
      ]
     },
     "execution_count": 36,
     "metadata": {},
     "output_type": "execute_result"
    }
   ],
   "source": [
    "response = with_message_history.invoke(\n",
    "    {\n",
    "        \"messages\": [\n",
    "            HumanMessage(content=\"What do i do?\")\n",
    "        ],\n",
    "        \"language\": \"German\"\n",
    "    },\n",
    "    config=config\n",
    ")\n",
    "\n",
    "response"
   ]
  },
  {
   "cell_type": "markdown",
   "id": "a3e86af3",
   "metadata": {},
   "source": [
    "### Manage the conversation history \n",
    "\n",
    "One important concept to undertand when building chatbots is how to manager conversation history. If left unmanaged, the list of messsages will grow unbounded and potentially overflow the context window of the LLM. Therefore, it is important to add a step that limits the size of the messages you are passing in. "
   ]
  },
  {
   "cell_type": "code",
   "execution_count": 44,
   "id": "8faed759",
   "metadata": {},
   "outputs": [
    {
     "data": {
      "text/plain": [
       "[SystemMessage(content='You are a good assistant', additional_kwargs={}, response_metadata={}),\n",
       " HumanMessage(content='Hi! I am bob', additional_kwargs={}, response_metadata={}),\n",
       " AIMessage(content='Hi !', additional_kwargs={}, response_metadata={}),\n",
       " HumanMessage(content='I like vanilla ice cream', additional_kwargs={}, response_metadata={}),\n",
       " AIMessage(content='Nice', additional_kwargs={}, response_metadata={}),\n",
       " HumanMessage(content='What is 2 + 2', additional_kwargs={}, response_metadata={}),\n",
       " AIMessage(content='4', additional_kwargs={}, response_metadata={}),\n",
       " HumanMessage(content='Thank you', additional_kwargs={}, response_metadata={}),\n",
       " AIMessage(content='No problem', additional_kwargs={}, response_metadata={}),\n",
       " HumanMessage(content='Having fun ?', additional_kwargs={}, response_metadata={}),\n",
       " AIMessage(content='yes!', additional_kwargs={}, response_metadata={})]"
      ]
     },
     "execution_count": 44,
     "metadata": {},
     "output_type": "execute_result"
    }
   ],
   "source": [
    "from langchain_core.messages import SystemMessage, trim_messages\n",
    "trimmer = trim_messages(\n",
    "    max_tokens=70,\n",
    "    strategy=\"last\",\n",
    "    token_counter=model,\n",
    "    include_system=True,\n",
    "    allow_partial=False,\n",
    "    start_on=\"human\",\n",
    ")\n",
    "\n",
    "messages = [\n",
    "    SystemMessage(content=\"You are a good assistant\"),\n",
    "    HumanMessage(content=\"Hi! I am bob\"),\n",
    "    AIMessage(content=\"Hi !\"),\n",
    "    HumanMessage(content=\"I like vanilla ice cream\"),\n",
    "    AIMessage(content=\"Nice\"),\n",
    "    HumanMessage(content=\"What is 2 + 2\"),\n",
    "    AIMessage(content=\"4\"),\n",
    "    HumanMessage(content=\"Thank you\"),\n",
    "    AIMessage(content=\"No problem\"),\n",
    "    HumanMessage(content=\"Having fun ?\"),\n",
    "    AIMessage(content=\"yes!\")\n",
    "]\n",
    "\n",
    "trimmer.invoke(messages)"
   ]
  },
  {
   "cell_type": "code",
   "execution_count": 46,
   "id": "2b540b0e",
   "metadata": {},
   "outputs": [
    {
     "data": {
      "text/plain": [
       "'You like Vanilleeis. 🍦  \\n\\n\\n\\n'"
      ]
     },
     "execution_count": 46,
     "metadata": {},
     "output_type": "execute_result"
    }
   ],
   "source": [
    "from operator import itemgetter\n",
    "from langchain_core.runnables import RunnablePassthrough\n",
    "\n",
    "chain = (\n",
    "    RunnablePassthrough.assign(\n",
    "        messages=itemgetter(\"messages\") | trimmer\n",
    "    ) | prompt | model | parser\n",
    ")\n",
    "\n",
    "response = chain.invoke(\n",
    "    {\n",
    "        \"messages\": messages + [HumanMessage(content=\"What ice cream do i like\")],\n",
    "        \"language\": \"German\"\n",
    "    }\n",
    ")\n",
    "\n",
    "response"
   ]
  },
  {
   "cell_type": "code",
   "execution_count": 48,
   "id": "777e9669",
   "metadata": {},
   "outputs": [
    {
     "data": {
      "text/plain": [
       "'You asked me: \"What is 2 + 2\" \\n\\n\\n'"
      ]
     },
     "execution_count": 48,
     "metadata": {},
     "output_type": "execute_result"
    }
   ],
   "source": [
    "response = chain.invoke(\n",
    "    {\n",
    "        \"messages\": messages + [HumanMessage(content=\"What math problem did i ask you?\")],\n",
    "        \"language\": \"German\"\n",
    "    }\n",
    ")\n",
    "\n",
    "response"
   ]
  },
  {
   "cell_type": "code",
   "execution_count": 53,
   "id": "6a23b730",
   "metadata": {},
   "outputs": [
    {
     "data": {
      "text/plain": [
       "'Als hilfreicher Assistent kann ich mich nicht an frühere Gespräche erinnern.\\n\\nKönnten Sie mir bitte das Mathematikproblem nennen, das Sie mich gerade gestellt haben? \\n'"
      ]
     },
     "execution_count": 53,
     "metadata": {},
     "output_type": "execute_result"
    }
   ],
   "source": [
    "## Lets wrap this in the message history\n",
    "\n",
    "with_message_history = RunnableWithMessageHistory(\n",
    "    chain,\n",
    "    get_session_history,\n",
    "    input_messages_key=\"messages\"\n",
    ")\n",
    "\n",
    "config = {\n",
    "    \"configurable\": {\n",
    "        \"session_id\": \"chat6\"\n",
    "    }\n",
    "}\n",
    "\n",
    "response = with_message_history.invoke(\n",
    "    {\n",
    "        \"messages\": [HumanMessage(content=\"What math problem did i ask you?\")],\n",
    "        \"language\": \"German\"\n",
    "    },\n",
    "    config=config\n",
    ")\n",
    "\n",
    "response"
   ]
  },
  {
   "cell_type": "code",
   "execution_count": null,
   "id": "33815dfa",
   "metadata": {},
   "outputs": [],
   "source": []
  }
 ],
 "metadata": {
  "kernelspec": {
   "display_name": ".venv",
   "language": "python",
   "name": "python3"
  },
  "language_info": {
   "codemirror_mode": {
    "name": "ipython",
    "version": 3
   },
   "file_extension": ".py",
   "mimetype": "text/x-python",
   "name": "python",
   "nbconvert_exporter": "python",
   "pygments_lexer": "ipython3",
   "version": "3.13.2"
  }
 },
 "nbformat": 4,
 "nbformat_minor": 5
}
