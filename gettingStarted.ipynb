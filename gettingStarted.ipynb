{
 "cells": [
  {
   "cell_type": "code",
   "execution_count": 1,
   "id": "8feddc2c",
   "metadata": {},
   "outputs": [],
   "source": [
    "import os\n",
    "from dotenv import load_dotenv\n",
    "load_dotenv()\n",
    "\n",
    "os.environ['LANGSMITH_API_KEY'] = os.getenv('LANGSMITH_API_KEY')\n",
    "os.environ['LANGCHAIN_TRACING_V2'] = 'true'\n",
    "os.environ['LANGCHAIN_PROJECT'] = os.getenv('LANGCHAIN_PROJECT')"
   ]
  },
  {
   "cell_type": "code",
   "execution_count": 2,
   "id": "ca1dd31e",
   "metadata": {},
   "outputs": [
    {
     "name": "stdout",
     "output_type": "stream",
     "text": [
      "model='gemma:2b' base_url='http://localhost:11434'\n"
     ]
    }
   ],
   "source": [
    "from langchain_ollama import ChatOllama\n",
    "llm = ChatOllama(\n",
    "    model=\"gemma:2b\",\n",
    "    base_url=\"http://localhost:11434\"\n",
    ")\n",
    "\n",
    "print(llm)"
   ]
  },
  {
   "cell_type": "code",
   "execution_count": 4,
   "id": "d1b796e2",
   "metadata": {},
   "outputs": [
    {
     "name": "stdout",
     "output_type": "stream",
     "text": [
      "Sure, here's a definition of Generative AI:\n",
      "\n",
      "**Generative AI** is a type of artificial intelligence (AI) that focuses on **creating new content** that resembles existing content. This can include a wide range of things, from text and images to music and code.\n",
      "\n",
      "Here are some key characteristics of generative AI:\n",
      "\n",
      "* **Data-driven:** Generative AI models are trained on massive datasets of existing content. This allows them to learn the patterns and relationships in the data.\n",
      "* **Generative:** These models can create new content that is similar to the training data.\n",
      "* **Creative:** Generative AI models can generate content that is not found in the training data, such as novel stories or images.\n",
      "* **Multimodal:** Some generative AI models can work with multiple types of content, such as text, images, and audio.\n",
      "\n",
      "**Here are some examples of generative AI technologies:**\n",
      "\n",
      "* **Chatbots:** Chatbots are a type of generative AI that can engage in natural language conversations.\n",
      "* **Text generators:** These models can generate new text based on a given prompt.\n",
      "* **Image generators:** These models can generate new images based on a given prompt.\n",
      "* **Music generators:** Generative AI models can generate new musical pieces, such as songs and instrumentals.\n",
      "\n",
      "Generative AI is still a relatively new field, but it has the potential to revolutionize many industries. By creating new content, generative AI models can save time and money, and they can also help us to understand the world better.\n"
     ]
    }
   ],
   "source": [
    "## Input and get response from llm\n",
    "result = llm.invoke(\"What is Generative AI?\")\n",
    "print(result.content)"
   ]
  },
  {
   "cell_type": "code",
   "execution_count": 6,
   "id": "910c2cdd",
   "metadata": {},
   "outputs": [
    {
     "data": {
      "text/plain": [
       "ChatPromptTemplate(input_variables=['input'], input_types={}, partial_variables={}, messages=[SystemMessagePromptTemplate(prompt=PromptTemplate(input_variables=[], input_types={}, partial_variables={}, template='You are an expert AI Engineer. Provide me answers based on the question. '), additional_kwargs={}), HumanMessagePromptTemplate(prompt=PromptTemplate(input_variables=['input'], input_types={}, partial_variables={}, template='{input}'), additional_kwargs={})])"
      ]
     },
     "execution_count": 6,
     "metadata": {},
     "output_type": "execute_result"
    }
   ],
   "source": [
    "### Chat Prompt template\n",
    "from langchain_core.prompts import ChatPromptTemplate\n",
    "\n",
    "prompt = ChatPromptTemplate.from_messages(\n",
    "    [\n",
    "        (\"system\", \"You are an expert AI Engineer. Provide me answers based on the question. \"),\n",
    "        (\"user\", \"{input}\")\n",
    "    ]\n",
    ")\n",
    "\n",
    "prompt"
   ]
  },
  {
   "cell_type": "code",
   "execution_count": 7,
   "id": "7b8ec138",
   "metadata": {},
   "outputs": [
    {
     "name": "stdout",
     "output_type": "stream",
     "text": [
      "## LangSmith: A Language AI Superpower\n",
      "\n",
      "LangSmith is a cutting-edge language AI platform that empowers developers and businesses to build **human-quality chatbots and conversational AI experiences** with remarkable speed and efficiency. \n",
      "\n",
      "Here's a closer look at what LangSmith offers:\n",
      "\n",
      "**Key features:**\n",
      "\n",
      "* **100% human-sounding language:** LangSmith generates natural and engaging conversation that sounds human, even for complex and nuanced topics.\n",
      "* **Fast and efficient:** Build chatbots and conversational experiences in minutes, without needing to be an expert in AI or programming.\n",
      "* **Seamless integration:** Integrate seamlessly with existing platforms and tools like Slack, Microsoft Teams, Dialogflow, and Google Assistant.\n",
      "* **Rich content library:** Choose from a vast library of pre-trained topics and skills for your chatbot, covering various domains and industries.\n",
      "* **No-code builder:** Build chatbots and conversational experiences without any coding required.\n",
      "* **End-to-end solution:** LangSmith provides everything you need to build and manage your chatbot, including the AI model, conversational flow, and user interface.\n",
      "\n",
      "**Benefits of using LangSmith:**\n",
      "\n",
      "* **Save time and resources:** Build chatbots quickly and efficiently, without the need for specialized training or extensive coding experience.\n",
      "* **Increase engagement and conversions:** Create chatbots that spark conversation and encourage user interaction, leading to higher engagement and conversions.\n",
      "* **Improve customer experience:** Provide exceptional customer experiences by building chatbots that can handle a wide range of inquiries and provide personalized support.\n",
      "* **Gain a competitive edge:** Stand out in the market by offering chatbots that are more natural, engaging, and effective than those built with traditional AI models.\n",
      "\n",
      "**Overall, LangSmith is a powerful and user-friendly solution for anyone looking to build exceptional conversational AI experiences.**\n",
      "\n",
      "Do you have any other questions about LangSmith?\n"
     ]
    }
   ],
   "source": [
    "chain = prompt | llm\n",
    "\n",
    "response = chain.invoke({\"input\": \"Can you tell me about LangSmith?\"})\n",
    "print(response.content)"
   ]
  },
  {
   "cell_type": "code",
   "execution_count": 8,
   "id": "abafb411",
   "metadata": {},
   "outputs": [
    {
     "data": {
      "text/plain": [
       "langchain_core.messages.ai.AIMessage"
      ]
     },
     "execution_count": 8,
     "metadata": {},
     "output_type": "execute_result"
    }
   ],
   "source": [
    "type(response)"
   ]
  },
  {
   "cell_type": "code",
   "execution_count": 10,
   "id": "5078c4fd",
   "metadata": {},
   "outputs": [
    {
     "name": "stdout",
     "output_type": "stream",
     "text": [
      "**Sure, I can tell you about LangSmith.**\n",
      "\n",
      "**What is LangSmith?**\n",
      "\n",
      "LangSmith is a conversational AI language model, trained by Google, that can engage in human-like conversations about a wide range of topics. It is a large language model (LLM) with a massive dataset of text and code.\n",
      "\n",
      "**Key features of LangSmith:**\n",
      "\n",
      "* **Natural language processing (NLP):** LangSmith can understand and generate human language, including text, code, and code.\n",
      "* **Large dataset:** It has been trained on a massive dataset of text and code, allowing it to learn and understand a vast amount of knowledge.\n",
      "* **Multi-modal:** It can process and generate content in multiple formats, including text, audio, and video.\n",
      "* **Conversational abilities:** It can engage in conversations, ask questions, and provide insights on various topics.\n",
      "* **Lifelong learning:** LangSmith is continuously learning and improving its knowledge base.\n",
      "\n",
      "**How does LangSmith work?**\n",
      "\n",
      "LangSmith works by using a combination of techniques, including:\n",
      "\n",
      "* **Natural language understanding (NLU):** It uses machine learning algorithms to understand the meaning of text and code.\n",
      "* **Natural language generation (NLG):** It can generate human-like text, code, and other linguistic outputs.\n",
      "* **Multimodal processing:** It integrates information from multiple modalities, such as text, audio, and video.\n",
      "\n",
      "**Use cases of LangSmith:**\n",
      "\n",
      "* **Customer service:** It can provide support and answer questions in a natural language.\n",
      "* **Chatbots:** It can engage in conversation and provide information.\n",
      "* **Content creation:** It can generate various content formats, such as stories, poems, and news articles.\n",
      "* **Language learning:** It can assist with language acquisition by providing language prompts and feedback.\n",
      "\n",
      "**Additional information:**\n",
      "\n",
      "* LangSmith is a significant advancement in artificial intelligence and machine learning.\n",
      "* It is developed by Google AI.\n",
      "* It is currently available in public beta.\n"
     ]
    }
   ],
   "source": [
    "# String output parser\n",
    "from langchain_core.output_parsers import StrOutputParser\n",
    "\n",
    "parser = StrOutputParser()\n",
    "\n",
    "chain = prompt | llm | parser\n",
    "\n",
    "print(chain.invoke({\"input\": \"Can you tell me about LangSmith?\"}))"
   ]
  },
  {
   "cell_type": "code",
   "execution_count": null,
   "id": "62646a4e",
   "metadata": {},
   "outputs": [],
   "source": []
  }
 ],
 "metadata": {
  "kernelspec": {
   "display_name": ".venv",
   "language": "python",
   "name": "python3"
  },
  "language_info": {
   "codemirror_mode": {
    "name": "ipython",
    "version": 3
   },
   "file_extension": ".py",
   "mimetype": "text/x-python",
   "name": "python",
   "nbconvert_exporter": "python",
   "pygments_lexer": "ipython3",
   "version": "3.13.2"
  }
 },
 "nbformat": 4,
 "nbformat_minor": 5
}
