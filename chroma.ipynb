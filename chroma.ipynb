{
 "cells": [
  {
   "cell_type": "code",
   "execution_count": 1,
   "id": "170822ea",
   "metadata": {},
   "outputs": [],
   "source": [
    "## building a sample vector db\n",
    "from langchain_chroma import Chroma\n",
    "from langchain_community.document_loaders import TextLoader\n",
    "from langchain_ollama import OllamaEmbeddings\n",
    "from langchain_text_splitters import RecursiveCharacterTextSplitter"
   ]
  },
  {
   "cell_type": "code",
   "execution_count": 2,
   "id": "1eeeb105",
   "metadata": {},
   "outputs": [
    {
     "data": {
      "text/plain": [
       "[Document(metadata={'source': 'speech.txt'}, page_content='Heisenberg enjoyed classical music and was an accomplished pianist, and playing for others was a large part of his social life.[3] During the late 1920s and early 1930s he would often play music and dance at the Berlin home of his aristocratic student Carl Friedrich von Weizsäcker, during which time he carried on a courtship with Carl\\'s high-school-age sister Adelheid, which scandalized her parents and led to him being unwelcome at their home for a time.[26] Years later his interest in music also led to meeting his future wife. In January 1937, Heisenberg met Elisabeth Schumacher (1914–1998) at a private music recital. Elisabeth was the daughter of a well-known Berlin economics professor, and her brother was the economist E. F. Schumacher, author of Small Is Beautiful. Heisenberg married her on 29 April. Fraternal twins Maria and Wolfgang were born in January 1938, whereupon Wolfgang Pauli congratulated Heisenberg on his \"pair creation\"—a wordplay on a process from elementary particle physics, pair production. They had five more children over the next 12 years: Barbara, Christine, Jochen, Martin and Verena.[27][28] In 1939 he bought a summer home for his family in Urfeld am Walchensee, in southern Germany.\\n\\nOne of Heisenberg\\'s sons, Martin Heisenberg, became a neurobiologist at the University of Würzburg, while another son, Jochen Heisenberg, became a physics professor at the University of New Hampshire.[29]\\n\\nAcademic career\\nGöttingen, Copenhagen and Leipzig\\nFrom 1924 to 1927, Heisenberg was a Privatdozent at Göttingen, meaning he was qualified to teach and examine independently, without having a chair. From 17 September 1924 to 1 May 1925, under an International Education Board Rockefeller Foundation fellowship, Heisenberg went to do research with Niels Bohr, director of the Institute of Theoretical Physics at the University of Copenhagen. On June 7, after weeks of failing to alleviate a severe bout of hay fever with aspirin and cocaine,[30] Heisenberg retreated to the pollen-free North Sea island of Helgoland to focus on quantum mechanics.[31][32] His seminal paper, \"Über quantentheoretische Umdeutung kinematischer und mechanischer Beziehungen\" (\"Quantum theoretical re-interpretation of kinematic and mechanical relations\") also called the Umdeutung (reinterpretation) paper, was published in September 1925.[33] He returned to Göttingen and, with Max Born and Pascual Jordan over a period of about six months, developed the matrix mechanics formulation of quantum mechanics. On 1 May 1926, Heisenberg began his appointment as a university lecturer and assistant to Bohr in Copenhagen. It was in Copenhagen, in 1927, that Heisenberg developed his uncertainty principle, while working on the mathematical foundations of quantum mechanics. On 23 February, Heisenberg wrote a letter to fellow physicist Wolfgang Pauli, in which he first described his new principle.[34] In his paper on the principle,[35] Heisenberg used the word \"Ungenauigkeit\" (imprecision), not uncertainty, to describe it.[3][36][37]\\n\\nIn 1927, Heisenberg was appointed ordentlicher Professor (professor ordinarius) of theoretical physics and head of the department of physics at the University of Leipzig; he gave his inaugural lecture there on 1 February 1928. In his first paper published from Leipzig,[38] Heisenberg used the Pauli exclusion principle to solve the mystery of ferromagnetism.[3][20][36][39]\\n\\nAt 25 years old, Heisenberg gained the title of the youngest full-time professor in Germany and professorial chair[40] of the Institute for Theoretical Physics at the University of Leipzig. He gave lectures that were attended by physicists like Edward Teller and Robert Oppenheimer,[40] who would later work on the Manhattan Project[41] for the United States.\\n\\nDuring Heisenberg\\'s tenure at Leipzig, the high quality of the doctoral students and post-graduate and research associates who studied and worked with him is clear from the acclaim that many later earned. They included Erich Bagge, Felix Bloch, Ugo Fano, Siegfried Flügge, William Vermillion Houston, Friedrich Hund, Robert S. Mulliken, Rudolf Peierls, George Placzek, Isidor Isaac Rabi, Fritz Sauter, John C. Slater, Edward Teller, John Hasbrouck van Vleck, Victor Frederick Weisskopf, Carl Friedrich von Weizsäcker, Gregor Wentzel, and Clarence Zener.[42]\\n\\nIn early 1929, Heisenberg and Pauli submitted the first of two papers laying the foundation for relativistic quantum field theory.[43] Also in 1929, Heisenberg went on a lecture tour of China, Japan, India, and the United States.[36][42] In the spring of 1929, he was a visiting lecturer at the University of Chicago, where he lectured on quantum mechanics.[44]\\n\\nIn 1928, the British mathematical physicist Paul Dirac had derived his relativistic wave equation of quantum mechanics, which implied the existence of positive electrons, later to be named positrons. In 1932, from a cloud chamber photograph of cosmic rays, the American physicist Carl David Anderson identified a track as having been made by a positron. In mid-1933, Heisenberg presented his theory of the positron. His thinking on Dirac\\'s theory and further development of the theory were set forth in two papers. The first, \"Bemerkungen zur Diracschen Theorie des Positrons\" (\"Remarks on Dirac\\'s theory of the positron\") was published in 1934,[45] and the second, \"Folgerungen aus der Diracschen Theorie des Positrons\" (\"Consequences of Dirac\\'s Theory of the Positron\"), was published in 1936.[36][46][47] In these papers Heisenberg was the first to reinterpret the Dirac equation as a \"classical\" field equation for any point particle of spin ħ/2, itself subject to quantization conditions involving anti-commutators. Thus reinterpreting it as a (quantum[clarification needed]) field equation accurately describing electrons, Heisenberg put matter on the same footing as electromagnetism: as being described by relativistic quantum field equations which allowed the possibility of particle creation and destruction. (Hermann Weyl had already described this in a 1929 letter to Albert Einstein.)')]"
      ]
     },
     "execution_count": 2,
     "metadata": {},
     "output_type": "execute_result"
    }
   ],
   "source": [
    "loader = TextLoader(\"speech.txt\")\n",
    "data = loader.load()\n",
    "\n",
    "data"
   ]
  },
  {
   "cell_type": "code",
   "execution_count": 3,
   "id": "aa5bea19",
   "metadata": {},
   "outputs": [],
   "source": [
    "# SPlit\n",
    "text_splitter = RecursiveCharacterTextSplitter(chunk_size=200, chunk_overlap=0)\n",
    "splits = text_splitter.split_documents(data)"
   ]
  },
  {
   "cell_type": "code",
   "execution_count": 4,
   "id": "ecb1e554",
   "metadata": {},
   "outputs": [
    {
     "data": {
      "text/plain": [
       "<langchain_chroma.vectorstores.Chroma at 0x10f052660>"
      ]
     },
     "execution_count": 4,
     "metadata": {},
     "output_type": "execute_result"
    }
   ],
   "source": [
    "embeddings = OllamaEmbeddings(model=\"gemma:2b\", base_url=\"http://localhost:11434\")\n",
    "vectordb = Chroma.from_documents(documents=splits, embedding=embeddings)\n",
    "vectordb"
   ]
  },
  {
   "cell_type": "code",
   "execution_count": 5,
   "id": "3b06bccf",
   "metadata": {},
   "outputs": [
    {
     "data": {
      "text/plain": [
       "'Sauter, John C. Slater, Edward Teller, John Hasbrouck van Vleck, Victor Frederick Weisskopf, Carl Friedrich von Weizsäcker, Gregor Wentzel, and Clarence Zener.[42]'"
      ]
     },
     "execution_count": 5,
     "metadata": {},
     "output_type": "execute_result"
    }
   ],
   "source": [
    "# Query it\n",
    "query = \"What is the main idea of the speech?\"\n",
    "\n",
    "docs = vectordb.similarity_search(query)\n",
    "docs[0].page_content"
   ]
  },
  {
   "cell_type": "code",
   "execution_count": 7,
   "id": "7e0d0429",
   "metadata": {},
   "outputs": [],
   "source": [
    "# FLushing to the disk\n",
    "vectordb=Chroma.from_documents(documents=splits, embedding=embeddings, persist_directory=\"./chroma_db\")\n",
    "\n"
   ]
  },
  {
   "cell_type": "code",
   "execution_count": 8,
   "id": "8bcbcc54",
   "metadata": {},
   "outputs": [
    {
     "name": "stdout",
     "output_type": "stream",
     "text": [
      "Sauter, John C. Slater, Edward Teller, John Hasbrouck van Vleck, Victor Frederick Weisskopf, Carl Friedrich von Weizsäcker, Gregor Wentzel, and Clarence Zener.[42]\n"
     ]
    }
   ],
   "source": [
    "# Load from disk\n",
    "\n",
    "db2 = Chroma(persist_directory=\"./chroma_db\", embedding_function=embeddings)\n",
    "docs = db2.similarity_search(query)\n",
    "print(docs[0].page_content)"
   ]
  },
  {
   "cell_type": "code",
   "execution_count": 9,
   "id": "c58c7535",
   "metadata": {},
   "outputs": [
    {
     "data": {
      "text/plain": [
       "'Sauter, John C. Slater, Edward Teller, John Hasbrouck van Vleck, Victor Frederick Weisskopf, Carl Friedrich von Weizsäcker, Gregor Wentzel, and Clarence Zener.[42]'"
      ]
     },
     "execution_count": 9,
     "metadata": {},
     "output_type": "execute_result"
    }
   ],
   "source": [
    "### Retriever option\n",
    "retriever = vectordb.as_retriever()\n",
    "retriever.invoke(\"What is the main idea of the speech?\")[0].page_content"
   ]
  },
  {
   "cell_type": "code",
   "execution_count": null,
   "id": "530dd318",
   "metadata": {},
   "outputs": [],
   "source": []
  }
 ],
 "metadata": {
  "kernelspec": {
   "display_name": ".venv",
   "language": "python",
   "name": "python3"
  },
  "language_info": {
   "codemirror_mode": {
    "name": "ipython",
    "version": 3
   },
   "file_extension": ".py",
   "mimetype": "text/x-python",
   "name": "python",
   "nbconvert_exporter": "python",
   "pygments_lexer": "ipython3",
   "version": "3.13.2"
  }
 },
 "nbformat": 4,
 "nbformat_minor": 5
}
