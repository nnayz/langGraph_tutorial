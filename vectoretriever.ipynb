{
 "cells": [
  {
   "cell_type": "markdown",
   "id": "a570f251",
   "metadata": {},
   "source": [
    "## Vector stores and retrievers\n"
   ]
  },
  {
   "cell_type": "code",
   "execution_count": 1,
   "id": "5e5e5a5c",
   "metadata": {},
   "outputs": [],
   "source": [
    "from langchain_core.documents import Document"
   ]
  },
  {
   "cell_type": "code",
   "execution_count": 2,
   "id": "30775cb5",
   "metadata": {},
   "outputs": [],
   "source": [
    "documents = [\n",
    "    Document(\n",
    "        page_content=\"Dogs are reat companies, known for their loyalty and friendliness\",\n",
    "        metadata={\"source\": \"mamma1-pets-doc\"},\n",
    "    ),\n",
    "    Document(\n",
    "        page_content=\"Cats are independent pets that often enjoy their own space\",\n",
    "        metadata={\"source\": \"mamma1-pets-doc\"},\n",
    "    ),\n",
    "    Document(\n",
    "        page_content=\"Goldfish are popular pets for beginners, requiring relatively simple care. \",\n",
    "        metadata={\"source\": \"fish-pets-doc\"},\n",
    "    ),\n",
    "    Document(\n",
    "        page_content=\"Parrots are intelligent birds capable of mimicking human speech\",\n",
    "        metadata={\"source\": \"bird-pets-doc\"},\n",
    "    )\n",
    "]"
   ]
  },
  {
   "cell_type": "code",
   "execution_count": 4,
   "id": "ff215ff9",
   "metadata": {},
   "outputs": [
    {
     "name": "stdout",
     "output_type": "stream",
     "text": [
      "client=<groq.resources.chat.completions.Completions object at 0x10e563cb0> async_client=<groq.resources.chat.completions.AsyncCompletions object at 0x10e6f0980> model_name='Llama3-8b-8192' model_kwargs={} groq_api_key=SecretStr('**********')\n"
     ]
    }
   ],
   "source": [
    "import os\n",
    "from dotenv import load_dotenv\n",
    "load_dotenv()\n",
    "from langchain_groq import ChatGroq\n",
    "groq_api_key = os.getenv(\"GROQ_API_KEY\")\n",
    "\n",
    "os.environ[\"HF_ACCESS_TOKEN\"] = os.getenv(\"HF_ACCESS_TOKEN\")\n",
    "\n",
    "llm = ChatGroq(groq_api_key=groq_api_key, model=\"Llama3-8b-8192\")\n",
    "print(llm)"
   ]
  },
  {
   "cell_type": "code",
   "execution_count": 5,
   "id": "da953574",
   "metadata": {},
   "outputs": [],
   "source": [
    "from tqdm.autonotebook import tqdm, trange\n",
    "from langchain_huggingface import HuggingFaceEmbeddings\n",
    "embeddings = HuggingFaceEmbeddings(model_name=\"all-MiniLM-L6-v2\")"
   ]
  },
  {
   "cell_type": "code",
   "execution_count": 6,
   "id": "55db6f81",
   "metadata": {},
   "outputs": [
    {
     "data": {
      "text/plain": [
       "<langchain_chroma.vectorstores.Chroma at 0x1214a2cf0>"
      ]
     },
     "execution_count": 6,
     "metadata": {},
     "output_type": "execute_result"
    }
   ],
   "source": [
    "## vector stores\n",
    "from langchain_chroma import Chroma\n",
    "\n",
    "vectorstore = Chroma.from_documents(\n",
    "    documents, embedding=embeddings\n",
    ")\n",
    "vectorstore\n"
   ]
  },
  {
   "cell_type": "code",
   "execution_count": 7,
   "id": "5a49a9f9",
   "metadata": {},
   "outputs": [
    {
     "data": {
      "text/plain": [
       "[Document(id='dc66aacd-9c04-4a6b-b2f7-aa41e832c7f9', metadata={'source': 'mamma1-pets-doc'}, page_content='Cats are independent pets that often enjoy their own space'),\n",
       " Document(id='17a330f4-efb8-4cbb-9687-a1035a28d8f9', metadata={'source': 'mamma1-pets-doc'}, page_content='Dogs are reat companies, known for their loyalty and friendliness'),\n",
       " Document(id='6a424100-9923-4673-95f0-f7dfe6f86996', metadata={'source': 'bird-pets-doc'}, page_content='Parrots are intelligent birds capable of mimicking human speech'),\n",
       " Document(id='8c63f321-2d89-4b03-9495-83e2b91b9c4f', metadata={'source': 'fish-pets-doc'}, page_content='Goldfish are popular pets for beginners, requiring relatively simple care. ')]"
      ]
     },
     "execution_count": 7,
     "metadata": {},
     "output_type": "execute_result"
    }
   ],
   "source": [
    "vectorstore.similarity_search(\"cat\")"
   ]
  },
  {
   "cell_type": "code",
   "execution_count": 8,
   "id": "19b6d254",
   "metadata": {},
   "outputs": [
    {
     "data": {
      "text/plain": [
       "[Document(id='dc66aacd-9c04-4a6b-b2f7-aa41e832c7f9', metadata={'source': 'mamma1-pets-doc'}, page_content='Cats are independent pets that often enjoy their own space'),\n",
       " Document(id='17a330f4-efb8-4cbb-9687-a1035a28d8f9', metadata={'source': 'mamma1-pets-doc'}, page_content='Dogs are reat companies, known for their loyalty and friendliness'),\n",
       " Document(id='6a424100-9923-4673-95f0-f7dfe6f86996', metadata={'source': 'bird-pets-doc'}, page_content='Parrots are intelligent birds capable of mimicking human speech'),\n",
       " Document(id='8c63f321-2d89-4b03-9495-83e2b91b9c4f', metadata={'source': 'fish-pets-doc'}, page_content='Goldfish are popular pets for beginners, requiring relatively simple care. ')]"
      ]
     },
     "execution_count": 8,
     "metadata": {},
     "output_type": "execute_result"
    }
   ],
   "source": [
    "# Async query\n",
    "await vectorstore.asimilarity_search(\"Cat\")"
   ]
  },
  {
   "cell_type": "code",
   "execution_count": 10,
   "id": "a13268bf",
   "metadata": {},
   "outputs": [
    {
     "data": {
      "text/plain": [
       "[(Document(id='dc66aacd-9c04-4a6b-b2f7-aa41e832c7f9', metadata={'source': 'mamma1-pets-doc'}, page_content='Cats are independent pets that often enjoy their own space'),\n",
       "  0.9436444044113159),\n",
       " (Document(id='17a330f4-efb8-4cbb-9687-a1035a28d8f9', metadata={'source': 'mamma1-pets-doc'}, page_content='Dogs are reat companies, known for their loyalty and friendliness'),\n",
       "  1.4431562423706055),\n",
       " (Document(id='6a424100-9923-4673-95f0-f7dfe6f86996', metadata={'source': 'bird-pets-doc'}, page_content='Parrots are intelligent birds capable of mimicking human speech'),\n",
       "  1.628485918045044),\n",
       " (Document(id='8c63f321-2d89-4b03-9495-83e2b91b9c4f', metadata={'source': 'fish-pets-doc'}, page_content='Goldfish are popular pets for beginners, requiring relatively simple care. '),\n",
       "  1.8011280298233032)]"
      ]
     },
     "execution_count": 10,
     "metadata": {},
     "output_type": "execute_result"
    }
   ],
   "source": [
    "vectorstore.similarity_search_with_score(\"cat\")"
   ]
  },
  {
   "cell_type": "markdown",
   "id": "fc67f3a2",
   "metadata": {},
   "source": [
    "### Retrievers \n",
    "\n",
    "Langchain VectorStore objects do not subclass Runnable, and so cannot immediately be integrated into LangChain Expression Language chains\n",
    "\n",
    "Langchain Retrievers are Runnables, so they implement a standard set of methods (e.g., synchronous and asynchronous invoke and batch operations) and are designed to be incorporated in LCEL chains\n",
    "\n",
    "We can create a simple version of this ourselves, without subclassing Retriever. If we choose what method we wish to use to retrieve documents, we can create a runnable easily. Below we will build one around the similarity_search method.\n"
   ]
  },
  {
   "cell_type": "code",
   "execution_count": 12,
   "id": "f9f22373",
   "metadata": {},
   "outputs": [
    {
     "data": {
      "text/plain": [
       "[[Document(id='dc66aacd-9c04-4a6b-b2f7-aa41e832c7f9', metadata={'source': 'mamma1-pets-doc'}, page_content='Cats are independent pets that often enjoy their own space')],\n",
       " [Document(id='17a330f4-efb8-4cbb-9687-a1035a28d8f9', metadata={'source': 'mamma1-pets-doc'}, page_content='Dogs are reat companies, known for their loyalty and friendliness')]]"
      ]
     },
     "execution_count": 12,
     "metadata": {},
     "output_type": "execute_result"
    }
   ],
   "source": [
    "from typing import List\n",
    "\n",
    "from langchain_core.documents import Document\n",
    "from langchain_core.runnables import RunnableLambda\n",
    "\n",
    "retriever = RunnableLambda(vectorstore.similarity_search).bind(k=1)\n",
    "retriever.batch([\"cat\", \"dog\"])"
   ]
  },
  {
   "cell_type": "markdown",
   "id": "6f66aa35",
   "metadata": {},
   "source": [
    "Vectorestore implement an as_retriever method that will generate a Retriever, specifically a VectorStoreRetriever. These retrievers include specific search_type and search_kwargs attributes that identify what methods of the underlying vectors store to call, and how to parameterize them. For instance, we can replicate the above with the following:"
   ]
  },
  {
   "cell_type": "code",
   "execution_count": 13,
   "id": "b109a3e2",
   "metadata": {},
   "outputs": [
    {
     "data": {
      "text/plain": [
       "[[Document(id='dc66aacd-9c04-4a6b-b2f7-aa41e832c7f9', metadata={'source': 'mamma1-pets-doc'}, page_content='Cats are independent pets that often enjoy their own space')],\n",
       " [Document(id='17a330f4-efb8-4cbb-9687-a1035a28d8f9', metadata={'source': 'mamma1-pets-doc'}, page_content='Dogs are reat companies, known for their loyalty and friendliness')]]"
      ]
     },
     "execution_count": 13,
     "metadata": {},
     "output_type": "execute_result"
    }
   ],
   "source": [
    "retriever = vectorstore.as_retriever(\n",
    "    search_type=\"similarity\",\n",
    "    search_kwargs={\"k\": 1}\n",
    ")\n",
    "retriever.batch([\"cat\", \"dog\"])"
   ]
  },
  {
   "cell_type": "code",
   "execution_count": 15,
   "id": "cb762f86",
   "metadata": {},
   "outputs": [
    {
     "name": "stdout",
     "output_type": "stream",
     "text": [
      "According to the provided context, dogs are \"reat companies, known for their loyalty and friendliness\".\n"
     ]
    }
   ],
   "source": [
    "from langchain_core.prompts import ChatPromptTemplate\n",
    "from langchain_core.runnables import RunnablePassthrough\n",
    "from langchain_core.output_parsers import StrOutputParser\n",
    "\n",
    "message = \"\"\"\n",
    "Answer the question using the provided context only.\n",
    "{question}\n",
    "Context: \n",
    "{context}\n",
    "\"\"\"\n",
    "\n",
    "prompt = ChatPromptTemplate.from_messages([(\"human\", message)])\n",
    "\n",
    "rag_chain = {\n",
    "    \"context\": retriever,\n",
    "    \"question\": RunnablePassthrough()\n",
    "} | prompt | llm | StrOutputParser()\n",
    "\n",
    "response = rag_chain.invoke(\"Tell me about dogs\")\n",
    "print(response)"
   ]
  },
  {
   "cell_type": "code",
   "execution_count": null,
   "id": "5a2d4afe",
   "metadata": {},
   "outputs": [],
   "source": []
  }
 ],
 "metadata": {
  "kernelspec": {
   "display_name": ".venv",
   "language": "python",
   "name": "python3"
  },
  "language_info": {
   "codemirror_mode": {
    "name": "ipython",
    "version": 3
   },
   "file_extension": ".py",
   "mimetype": "text/x-python",
   "name": "python",
   "nbconvert_exporter": "python",
   "pygments_lexer": "ipython3",
   "version": "3.13.2"
  }
 },
 "nbformat": 4,
 "nbformat_minor": 5
}
