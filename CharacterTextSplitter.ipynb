{
 "cells": [
  {
   "cell_type": "code",
   "execution_count": 1,
   "id": "be180713",
   "metadata": {},
   "outputs": [
    {
     "data": {
      "text/plain": [
       "[Document(metadata={'source': 'speech.txt'}, page_content='Heisenberg enjoyed classical music and was an accomplished pianist, and playing for others was a large part of his social life.[3] During the late 1920s and early 1930s he would often play music and dance at the Berlin home of his aristocratic student Carl Friedrich von Weizsäcker, during which time he carried on a courtship with Carl\\'s high-school-age sister Adelheid, which scandalized her parents and led to him being unwelcome at their home for a time.[26] Years later his interest in music also led to meeting his future wife. In January 1937, Heisenberg met Elisabeth Schumacher (1914–1998) at a private music recital. Elisabeth was the daughter of a well-known Berlin economics professor, and her brother was the economist E. F. Schumacher, author of Small Is Beautiful. Heisenberg married her on 29 April. Fraternal twins Maria and Wolfgang were born in January 1938, whereupon Wolfgang Pauli congratulated Heisenberg on his \"pair creation\"—a wordplay on a process from elementary particle physics, pair production. They had five more children over the next 12 years: Barbara, Christine, Jochen, Martin and Verena.[27][28] In 1939 he bought a summer home for his family in Urfeld am Walchensee, in southern Germany.\\n\\nOne of Heisenberg\\'s sons, Martin Heisenberg, became a neurobiologist at the University of Würzburg, while another son, Jochen Heisenberg, became a physics professor at the University of New Hampshire.[29]\\n\\nAcademic career\\nGöttingen, Copenhagen and Leipzig\\nFrom 1924 to 1927, Heisenberg was a Privatdozent at Göttingen, meaning he was qualified to teach and examine independently, without having a chair. From 17 September 1924 to 1 May 1925, under an International Education Board Rockefeller Foundation fellowship, Heisenberg went to do research with Niels Bohr, director of the Institute of Theoretical Physics at the University of Copenhagen. On June 7, after weeks of failing to alleviate a severe bout of hay fever with aspirin and cocaine,[30] Heisenberg retreated to the pollen-free North Sea island of Helgoland to focus on quantum mechanics.[31][32] His seminal paper, \"Über quantentheoretische Umdeutung kinematischer und mechanischer Beziehungen\" (\"Quantum theoretical re-interpretation of kinematic and mechanical relations\") also called the Umdeutung (reinterpretation) paper, was published in September 1925.[33] He returned to Göttingen and, with Max Born and Pascual Jordan over a period of about six months, developed the matrix mechanics formulation of quantum mechanics. On 1 May 1926, Heisenberg began his appointment as a university lecturer and assistant to Bohr in Copenhagen. It was in Copenhagen, in 1927, that Heisenberg developed his uncertainty principle, while working on the mathematical foundations of quantum mechanics. On 23 February, Heisenberg wrote a letter to fellow physicist Wolfgang Pauli, in which he first described his new principle.[34] In his paper on the principle,[35] Heisenberg used the word \"Ungenauigkeit\" (imprecision), not uncertainty, to describe it.[3][36][37]\\n\\nIn 1927, Heisenberg was appointed ordentlicher Professor (professor ordinarius) of theoretical physics and head of the department of physics at the University of Leipzig; he gave his inaugural lecture there on 1 February 1928. In his first paper published from Leipzig,[38] Heisenberg used the Pauli exclusion principle to solve the mystery of ferromagnetism.[3][20][36][39]\\n\\nAt 25 years old, Heisenberg gained the title of the youngest full-time professor in Germany and professorial chair[40] of the Institute for Theoretical Physics at the University of Leipzig. He gave lectures that were attended by physicists like Edward Teller and Robert Oppenheimer,[40] who would later work on the Manhattan Project[41] for the United States.\\n\\nDuring Heisenberg\\'s tenure at Leipzig, the high quality of the doctoral students and post-graduate and research associates who studied and worked with him is clear from the acclaim that many later earned. They included Erich Bagge, Felix Bloch, Ugo Fano, Siegfried Flügge, William Vermillion Houston, Friedrich Hund, Robert S. Mulliken, Rudolf Peierls, George Placzek, Isidor Isaac Rabi, Fritz Sauter, John C. Slater, Edward Teller, John Hasbrouck van Vleck, Victor Frederick Weisskopf, Carl Friedrich von Weizsäcker, Gregor Wentzel, and Clarence Zener.[42]\\n\\nIn early 1929, Heisenberg and Pauli submitted the first of two papers laying the foundation for relativistic quantum field theory.[43] Also in 1929, Heisenberg went on a lecture tour of China, Japan, India, and the United States.[36][42] In the spring of 1929, he was a visiting lecturer at the University of Chicago, where he lectured on quantum mechanics.[44]\\n\\nIn 1928, the British mathematical physicist Paul Dirac had derived his relativistic wave equation of quantum mechanics, which implied the existence of positive electrons, later to be named positrons. In 1932, from a cloud chamber photograph of cosmic rays, the American physicist Carl David Anderson identified a track as having been made by a positron. In mid-1933, Heisenberg presented his theory of the positron. His thinking on Dirac\\'s theory and further development of the theory were set forth in two papers. The first, \"Bemerkungen zur Diracschen Theorie des Positrons\" (\"Remarks on Dirac\\'s theory of the positron\") was published in 1934,[45] and the second, \"Folgerungen aus der Diracschen Theorie des Positrons\" (\"Consequences of Dirac\\'s Theory of the Positron\"), was published in 1936.[36][46][47] In these papers Heisenberg was the first to reinterpret the Dirac equation as a \"classical\" field equation for any point particle of spin ħ/2, itself subject to quantization conditions involving anti-commutators. Thus reinterpreting it as a (quantum[clarification needed]) field equation accurately describing electrons, Heisenberg put matter on the same footing as electromagnetism: as being described by relativistic quantum field equations which allowed the possibility of particle creation and destruction. (Hermann Weyl had already described this in a 1929 letter to Albert Einstein.)')]"
      ]
     },
     "execution_count": 1,
     "metadata": {},
     "output_type": "execute_result"
    }
   ],
   "source": [
    "from langchain_community.document_loaders import TextLoader\n",
    "\n",
    "loader = TextLoader('speech.txt')\n",
    "docs = loader.load()\n",
    "docs"
   ]
  },
  {
   "cell_type": "code",
   "execution_count": 2,
   "id": "a3547825",
   "metadata": {},
   "outputs": [
    {
     "name": "stderr",
     "output_type": "stream",
     "text": [
      "Created a chunk of size 1225, which is longer than the specified 100\n",
      "Created a chunk of size 204, which is longer than the specified 100\n",
      "Created a chunk of size 1609, which is longer than the specified 100\n",
      "Created a chunk of size 374, which is longer than the specified 100\n",
      "Created a chunk of size 359, which is longer than the specified 100\n",
      "Created a chunk of size 557, which is longer than the specified 100\n",
      "Created a chunk of size 361, which is longer than the specified 100\n"
     ]
    },
    {
     "data": {
      "text/plain": [
       "[Document(metadata={'source': 'speech.txt'}, page_content='Heisenberg enjoyed classical music and was an accomplished pianist, and playing for others was a large part of his social life.[3] During the late 1920s and early 1930s he would often play music and dance at the Berlin home of his aristocratic student Carl Friedrich von Weizsäcker, during which time he carried on a courtship with Carl\\'s high-school-age sister Adelheid, which scandalized her parents and led to him being unwelcome at their home for a time.[26] Years later his interest in music also led to meeting his future wife. In January 1937, Heisenberg met Elisabeth Schumacher (1914–1998) at a private music recital. Elisabeth was the daughter of a well-known Berlin economics professor, and her brother was the economist E. F. Schumacher, author of Small Is Beautiful. Heisenberg married her on 29 April. Fraternal twins Maria and Wolfgang were born in January 1938, whereupon Wolfgang Pauli congratulated Heisenberg on his \"pair creation\"—a wordplay on a process from elementary particle physics, pair production. They had five more children over the next 12 years: Barbara, Christine, Jochen, Martin and Verena.[27][28] In 1939 he bought a summer home for his family in Urfeld am Walchensee, in southern Germany.'),\n",
       " Document(metadata={'source': 'speech.txt'}, page_content=\"One of Heisenberg's sons, Martin Heisenberg, became a neurobiologist at the University of Würzburg, while another son, Jochen Heisenberg, became a physics professor at the University of New Hampshire.[29]\"),\n",
       " Document(metadata={'source': 'speech.txt'}, page_content='Academic career\\nGöttingen, Copenhagen and Leipzig\\nFrom 1924 to 1927, Heisenberg was a Privatdozent at Göttingen, meaning he was qualified to teach and examine independently, without having a chair. From 17 September 1924 to 1 May 1925, under an International Education Board Rockefeller Foundation fellowship, Heisenberg went to do research with Niels Bohr, director of the Institute of Theoretical Physics at the University of Copenhagen. On June 7, after weeks of failing to alleviate a severe bout of hay fever with aspirin and cocaine,[30] Heisenberg retreated to the pollen-free North Sea island of Helgoland to focus on quantum mechanics.[31][32] His seminal paper, \"Über quantentheoretische Umdeutung kinematischer und mechanischer Beziehungen\" (\"Quantum theoretical re-interpretation of kinematic and mechanical relations\") also called the Umdeutung (reinterpretation) paper, was published in September 1925.[33] He returned to Göttingen and, with Max Born and Pascual Jordan over a period of about six months, developed the matrix mechanics formulation of quantum mechanics. On 1 May 1926, Heisenberg began his appointment as a university lecturer and assistant to Bohr in Copenhagen. It was in Copenhagen, in 1927, that Heisenberg developed his uncertainty principle, while working on the mathematical foundations of quantum mechanics. On 23 February, Heisenberg wrote a letter to fellow physicist Wolfgang Pauli, in which he first described his new principle.[34] In his paper on the principle,[35] Heisenberg used the word \"Ungenauigkeit\" (imprecision), not uncertainty, to describe it.[3][36][37]'),\n",
       " Document(metadata={'source': 'speech.txt'}, page_content='In 1927, Heisenberg was appointed ordentlicher Professor (professor ordinarius) of theoretical physics and head of the department of physics at the University of Leipzig; he gave his inaugural lecture there on 1 February 1928. In his first paper published from Leipzig,[38] Heisenberg used the Pauli exclusion principle to solve the mystery of ferromagnetism.[3][20][36][39]'),\n",
       " Document(metadata={'source': 'speech.txt'}, page_content='At 25 years old, Heisenberg gained the title of the youngest full-time professor in Germany and professorial chair[40] of the Institute for Theoretical Physics at the University of Leipzig. He gave lectures that were attended by physicists like Edward Teller and Robert Oppenheimer,[40] who would later work on the Manhattan Project[41] for the United States.'),\n",
       " Document(metadata={'source': 'speech.txt'}, page_content=\"During Heisenberg's tenure at Leipzig, the high quality of the doctoral students and post-graduate and research associates who studied and worked with him is clear from the acclaim that many later earned. They included Erich Bagge, Felix Bloch, Ugo Fano, Siegfried Flügge, William Vermillion Houston, Friedrich Hund, Robert S. Mulliken, Rudolf Peierls, George Placzek, Isidor Isaac Rabi, Fritz Sauter, John C. Slater, Edward Teller, John Hasbrouck van Vleck, Victor Frederick Weisskopf, Carl Friedrich von Weizsäcker, Gregor Wentzel, and Clarence Zener.[42]\"),\n",
       " Document(metadata={'source': 'speech.txt'}, page_content='In early 1929, Heisenberg and Pauli submitted the first of two papers laying the foundation for relativistic quantum field theory.[43] Also in 1929, Heisenberg went on a lecture tour of China, Japan, India, and the United States.[36][42] In the spring of 1929, he was a visiting lecturer at the University of Chicago, where he lectured on quantum mechanics.[44]'),\n",
       " Document(metadata={'source': 'speech.txt'}, page_content='In 1928, the British mathematical physicist Paul Dirac had derived his relativistic wave equation of quantum mechanics, which implied the existence of positive electrons, later to be named positrons. In 1932, from a cloud chamber photograph of cosmic rays, the American physicist Carl David Anderson identified a track as having been made by a positron. In mid-1933, Heisenberg presented his theory of the positron. His thinking on Dirac\\'s theory and further development of the theory were set forth in two papers. The first, \"Bemerkungen zur Diracschen Theorie des Positrons\" (\"Remarks on Dirac\\'s theory of the positron\") was published in 1934,[45] and the second, \"Folgerungen aus der Diracschen Theorie des Positrons\" (\"Consequences of Dirac\\'s Theory of the Positron\"), was published in 1936.[36][46][47] In these papers Heisenberg was the first to reinterpret the Dirac equation as a \"classical\" field equation for any point particle of spin ħ/2, itself subject to quantization conditions involving anti-commutators. Thus reinterpreting it as a (quantum[clarification needed]) field equation accurately describing electrons, Heisenberg put matter on the same footing as electromagnetism: as being described by relativistic quantum field equations which allowed the possibility of particle creation and destruction. (Hermann Weyl had already described this in a 1929 letter to Albert Einstein.)')]"
      ]
     },
     "execution_count": 2,
     "metadata": {},
     "output_type": "execute_result"
    }
   ],
   "source": [
    "from langchain_text_splitters import CharacterTextSplitter\n",
    "text_splitter = CharacterTextSplitter(separator='\\n\\n', chunk_size=100, chunk_overlap=20)\n",
    "text_splitter.split_documents(docs)"
   ]
  },
  {
   "cell_type": "code",
   "execution_count": null,
   "id": "92572861",
   "metadata": {},
   "outputs": [],
   "source": []
  }
 ],
 "metadata": {
  "kernelspec": {
   "display_name": "langGraph_lectures",
   "language": "python",
   "name": "python3"
  },
  "language_info": {
   "codemirror_mode": {
    "name": "ipython",
    "version": 3
   },
   "file_extension": ".py",
   "mimetype": "text/x-python",
   "name": "python",
   "nbconvert_exporter": "python",
   "pygments_lexer": "ipython3",
   "version": "3.13.2"
  }
 },
 "nbformat": 4,
 "nbformat_minor": 5
}
